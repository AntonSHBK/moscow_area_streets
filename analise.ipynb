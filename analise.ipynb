{
 "cells": [
  {
   "cell_type": "code",
   "execution_count": 21,
   "metadata": {},
   "outputs": [],
   "source": [
    "from dbfread import DBF\n",
    "import pandas as pd\n",
    "import pickle"
   ]
  },
  {
   "cell_type": "markdown",
   "metadata": {},
   "source": [
    "## Export to Pandas DataFrame\n",
    "Для того что бы быстрее взаимодействовать с данными переводим их в DataFrame а также сохраняем в бинарном виде через модуль Pickle"
   ]
  },
  {
   "cell_type": "code",
   "execution_count": 22,
   "metadata": {},
   "outputs": [],
   "source": [
    "def save_pickle(data, file:str):\n",
    "    with open(file, 'wb') as data_file:\n",
    "        pickle.dump(data, data_file)\n",
    "\n",
    "def load_pickle(file):\n",
    "    with open(file, 'rb') as data_file:\n",
    "        return pickle.load(data_file)"
   ]
  },
  {
   "cell_type": "code",
   "execution_count": 23,
   "metadata": {},
   "outputs": [],
   "source": [
    "# ALTNAMES = DBF('data/ALTNAMES.dbf')\n",
    "# DOMA = DBF('data/DOMA.dbf')\n",
    "# KLADR = DBF('data/KLADR.dbf')\n",
    "# SOCRBASE = DBF('data/SOCRBASE.dbf')\n",
    "# STREET = DBF('data/STREET.dbf')"
   ]
  },
  {
   "cell_type": "code",
   "execution_count": 24,
   "metadata": {},
   "outputs": [],
   "source": [
    "# kladr = pd.DataFrame(iter(KLADR))\n",
    "# street = pd.DataFrame(iter(STREET))\n",
    "# home = pd.DataFrame(iter(DOMA))\n",
    "# short_names = pd.DataFrame(iter(SOCRBASE))\n",
    "\n",
    "# print(kladr.head(3))\n",
    "# print(street.head(3))\n",
    "# print(home.head(3))\n",
    "# print(short_names.head(3))"
   ]
  },
  {
   "cell_type": "code",
   "execution_count": 25,
   "metadata": {},
   "outputs": [],
   "source": [
    "# save_pickle(kladr, 'data/kladr.pkl')\n",
    "# save_pickle(street, 'data/street.pkl')\n",
    "# save_pickle(home, 'data/home.pkl')\n",
    "# save_pickle(short_names, 'data/short_names.pkl')"
   ]
  },
  {
   "cell_type": "markdown",
   "metadata": {},
   "source": [
    "### Загружаем DataFrame"
   ]
  },
  {
   "cell_type": "code",
   "execution_count": 26,
   "metadata": {},
   "outputs": [
    {
     "name": "stdout",
     "output_type": "stream",
     "text": [
      "      NAME  SOCR           CODE INDEX GNINMB UNO        OCATD STATUS\n",
      "0   Адыгея  Респ  0100000000000         0100      79000000000      0\n",
      "1   Майкоп     г  0100000100000         0100      79401000000      0\n",
      "2  Веселый     х  0100000100200         0100      79401000006      0\n"
     ]
    }
   ],
   "source": [
    "kladr = load_pickle('data/kladr.pkl')\n",
    "street = load_pickle('data/street.pkl')\n",
    "home = load_pickle('data/home.pkl')\n",
    "short_names = load_pickle('data/short_names.pkl')\n",
    "\n",
    "print(kladr.head(3))\n"
   ]
  },
  {
   "cell_type": "code",
   "execution_count": 27,
   "metadata": {},
   "outputs": [
    {
     "name": "stdout",
     "output_type": "stream",
     "text": [
      "          NAME SOCR               CODE INDEX GNINMB UNO        OCATD\n",
      "0  Абадзехская   ул  01000001000000100         0100      79401000000\n",
      "1  Абрикосовая   ул  01000001000000200         0100      79401000000\n",
      "2  Авиационный  пер  01000001000000300         0100      79401000000\n"
     ]
    }
   ],
   "source": [
    "print(street.head(3))\n"
   ]
  },
  {
   "cell_type": "code",
   "execution_count": 28,
   "metadata": {},
   "outputs": [
    {
     "name": "stdout",
     "output_type": "stream",
     "text": [
      "                                      NAME KORP SOCR                 CODE  \\\n",
      "0   11В,15Б,15Дстр1,15Лстр1,17,17А,43,4Б,8       ДОМ  0100000100000030001   \n",
      "1                         8Астр10,8Астр426       ДОМ  0100000100000030002   \n",
      "2  1,10,103,12,15,16,20,22,23,3,39,39А,47А       ДОМ  0100000100000030003   \n",
      "\n",
      "    INDEX GNINMB UNO        OCATD  \n",
      "0  385000   0100      79401000000  \n",
      "1  385000   0100      79401000000  \n",
      "2  385006   0100      79401000000  \n"
     ]
    }
   ],
   "source": [
    "print(home.head(3))\n"
   ]
  },
  {
   "cell_type": "code",
   "execution_count": 29,
   "metadata": {},
   "outputs": [
    {
     "name": "stdout",
     "output_type": "stream",
     "text": [
      "  LEVEL SCNAME            SOCRNAME KOD_T_ST\n",
      "0     1   Аобл  Автономная область      102\n",
      "1     1     АО    Автономный округ      101\n",
      "2     1      г               Город      103\n"
     ]
    }
   ],
   "source": [
    "print(short_names.head(3))"
   ]
  }
 ],
 "metadata": {
  "kernelspec": {
   "display_name": ".venv",
   "language": "python",
   "name": "python3"
  },
  "language_info": {
   "codemirror_mode": {
    "name": "ipython",
    "version": 3
   },
   "file_extension": ".py",
   "mimetype": "text/x-python",
   "name": "python",
   "nbconvert_exporter": "python",
   "pygments_lexer": "ipython3",
   "version": "3.8.0"
  }
 },
 "nbformat": 4,
 "nbformat_minor": 2
}
